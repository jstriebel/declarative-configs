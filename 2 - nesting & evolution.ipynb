{
 "cells": [
  {
   "cell_type": "code",
   "execution_count": 1,
   "id": "f413d164-9481-45c8-aeac-c3b78227f3b1",
   "metadata": {
    "slideshow": {
     "slide_type": "skip"
    },
    "tags": []
   },
   "outputs": [],
   "source": [
    "import altair\n",
    "import attr\n",
    "import cattr\n",
    "import matplotlib.pyplot as plt\n",
    "import yaml\n",
    "import enum\n",
    "from IPython.display import display\n",
    "from sklearn.neighbors import LocalOutlierFactor\n",
    "from sklearn.datasets import load_iris, load_linnerud\n",
    "from typing import Optional, Union\n",
    "from typing_extensions import Literal"
   ]
  },
  {
   "cell_type": "code",
   "execution_count": 2,
   "id": "e078d04b-8166-4996-a6db-09c13eb976a9",
   "metadata": {
    "tags": []
   },
   "outputs": [],
   "source": [
    "cattr = cattr.GenConverter(forbid_extra_keys=True)  # type: ignore"
   ]
  },
  {
   "cell_type": "code",
   "execution_count": 3,
   "id": "44132698-de78-4204-a670-3cd744c57760",
   "metadata": {
    "slideshow": {
     "slide_type": "skip"
    },
    "tags": []
   },
   "outputs": [],
   "source": [
    "def structure_literal(data, cls):\n",
    "    if data in cls.__args__:  # cls.__values__ from python 3.8\n",
    "        return data\n",
    "    else:\n",
    "        raise ValueError(f\"{data} does not fit Literal {cls}!\")\n",
    "\n",
    "\n",
    "cattr.register_structure_hook_func(\n",
    "    lambda cls: getattr(cls, \"__origin__\", None) == Literal,\n",
    "    structure_literal,\n",
    ")\n",
    "\n",
    "# cattr.structure(\"a\", Literal[\"a\"])"
   ]
  },
  {
   "cell_type": "code",
   "execution_count": 12,
   "id": "b3ac7b2f-01c0-44df-a9cc-b408808d6f1c",
   "metadata": {
    "slideshow": {
     "slide_type": "skip"
    },
    "tags": []
   },
   "outputs": [
    {
     "data": {
      "text/plain": [
       "'b'"
      ]
     },
     "execution_count": 12,
     "metadata": {},
     "output_type": "execute_result"
    }
   ],
   "source": [
    "def structure_unions_by_try(data, cls):\n",
    "    for possible_type in cls.__args__:\n",
    "        try:\n",
    "            return cattr.structure(data, possible_type)\n",
    "        except Exception:\n",
    "            pass\n",
    "    raise TypeError(f\"Could not parse {data} as any of {cls}\")\n",
    "\n",
    "\n",
    "cattr.register_structure_hook_func(\n",
    "    lambda cls: getattr(cls, \"__origin__\", None) == Union,\n",
    "    structure_unions_by_try\n",
    ")\n",
    "\n",
    "# cattr.structure(\"b\", Union[Literal[\"a\"], Literal[\"b\"], int])  # type: ignore"
   ]
  },
  {
   "cell_type": "markdown",
   "id": "67c30e82-0ad1-4b67-9acc-e4365251b8a1",
   "metadata": {
    "slideshow": {
     "slide_type": "slide"
    },
    "tags": []
   },
   "source": [
    "# Nesting & Resolving Ambiguity"
   ]
  },
  {
   "cell_type": "code",
   "execution_count": 5,
   "id": "a58fd34a-d235-4870-bd04-9089fd9d859c",
   "metadata": {},
   "outputs": [],
   "source": [
    "@attr.s(auto_attribs=True)\n",
    "class ScatterPlotSchema:\n",
    "    kind: Literal[\"scatter\"]\n",
    "    x: str\n",
    "    y: str\n",
    "    z: Optional[str] = None\n",
    "\n",
    "\n",
    "@attr.s(auto_attribs=True)\n",
    "class HeatmapSchema:\n",
    "    kind: Literal[\"heatmap\"]\n",
    "    x: str\n",
    "    y: str\n",
    "\n",
    "\n",
    "PlotSchema = Union[ScatterPlotSchema, HeatmapSchema]\n",
    "\n",
    "\n",
    "@enum.unique\n",
    "class Dataset(enum.Enum):\n",
    "    LINNERUD = \"linnerud\"\n",
    "    IRIS = \"iris\"\n",
    "\n",
    "\n",
    "@attr.s(auto_attribs=True)\n",
    "class ConfigSchema:\n",
    "    dataset: Dataset\n",
    "    outlier_n: int\n",
    "    plot: PlotSchema"
   ]
  },
  {
   "cell_type": "code",
   "execution_count": 10,
   "id": "a1968829-50a9-487c-a157-dae0b688cfb7",
   "metadata": {
    "tags": []
   },
   "outputs": [],
   "source": [
    "with open(\"config_a.yaml\") as f:\n",
    "    raw_config = yaml.safe_load(f)\n",
    "    config_version = raw_config.pop(\"version\", 1)\n",
    "    if config_version == 1:\n",
    "        # run evolution\n",
    "        raw_config[\"plot\"] = {\n",
    "            \"kind\": \"scatter\",\n",
    "            \"x\": raw_config.pop(\"plot_x\"),\n",
    "            \"y\": raw_config.pop(\"plot_y\")\n",
    "        }\n",
    "    config = cattr.structure(raw_config, ConfigSchema)"
   ]
  },
  {
   "cell_type": "code",
   "execution_count": 11,
   "id": "867db083-729d-48f0-ad1a-dee9907712e9",
   "metadata": {},
   "outputs": [
    {
     "data": {
      "text/html": [
       "\n",
       "<div id=\"altair-viz-be464721cb3343f48a554139e4e56689\"></div>\n",
       "<script type=\"text/javascript\">\n",
       "  (function(spec, embedOpt){\n",
       "    let outputDiv = document.currentScript.previousElementSibling;\n",
       "    if (outputDiv.id !== \"altair-viz-be464721cb3343f48a554139e4e56689\") {\n",
       "      outputDiv = document.getElementById(\"altair-viz-be464721cb3343f48a554139e4e56689\");\n",
       "    }\n",
       "    const paths = {\n",
       "      \"vega\": \"https://cdn.jsdelivr.net/npm//vega@5?noext\",\n",
       "      \"vega-lib\": \"https://cdn.jsdelivr.net/npm//vega-lib?noext\",\n",
       "      \"vega-lite\": \"https://cdn.jsdelivr.net/npm//vega-lite@4.8.1?noext\",\n",
       "      \"vega-embed\": \"https://cdn.jsdelivr.net/npm//vega-embed@6?noext\",\n",
       "    };\n",
       "\n",
       "    function loadScript(lib) {\n",
       "      return new Promise(function(resolve, reject) {\n",
       "        var s = document.createElement('script');\n",
       "        s.src = paths[lib];\n",
       "        s.async = true;\n",
       "        s.onload = () => resolve(paths[lib]);\n",
       "        s.onerror = () => reject(`Error loading script: ${paths[lib]}`);\n",
       "        document.getElementsByTagName(\"head\")[0].appendChild(s);\n",
       "      });\n",
       "    }\n",
       "\n",
       "    function showError(err) {\n",
       "      outputDiv.innerHTML = `<div class=\"error\" style=\"color:red;\">${err}</div>`;\n",
       "      throw err;\n",
       "    }\n",
       "\n",
       "    function displayChart(vegaEmbed) {\n",
       "      vegaEmbed(outputDiv, spec, embedOpt)\n",
       "        .catch(err => showError(`Javascript Error: ${err.message}<br>This usually means there's a typo in your chart specification. See the javascript console for the full traceback.`));\n",
       "    }\n",
       "\n",
       "    if(typeof define === \"function\" && define.amd) {\n",
       "      requirejs.config({paths});\n",
       "      require([\"vega-embed\"], displayChart, err => showError(`Error loading script: ${err.message}`));\n",
       "    } else if (typeof vegaEmbed === \"function\") {\n",
       "      displayChart(vegaEmbed);\n",
       "    } else {\n",
       "      loadScript(\"vega\")\n",
       "        .then(() => loadScript(\"vega-lite\"))\n",
       "        .then(() => loadScript(\"vega-embed\"))\n",
       "        .catch(showError)\n",
       "        .then(() => displayChart(vegaEmbed));\n",
       "    }\n",
       "  })({\"config\": {\"view\": {\"continuousWidth\": 400, \"continuousHeight\": 300}}, \"data\": {\"name\": \"data-6cb26e9c2195c4d373ce876a74321a8a\"}, \"mark\": \"point\", \"encoding\": {\"color\": {\"type\": \"nominal\", \"field\": \"Outlier\"}, \"x\": {\"type\": \"quantitative\", \"field\": \"sepal length (cm)\"}, \"y\": {\"type\": \"quantitative\", \"field\": \"petal length (cm)\"}}, \"$schema\": \"https://vega.github.io/schema/vega-lite/v4.8.1.json\", \"datasets\": {\"data-6cb26e9c2195c4d373ce876a74321a8a\": [{\"sepal length (cm)\": 5.1, \"sepal width (cm)\": 3.5, \"petal length (cm)\": 1.4, \"petal width (cm)\": 0.2, \"Outlier\": false}, {\"sepal length (cm)\": 4.9, \"sepal width (cm)\": 3.0, \"petal length (cm)\": 1.4, \"petal width (cm)\": 0.2, \"Outlier\": false}, {\"sepal length (cm)\": 4.7, \"sepal width (cm)\": 3.2, \"petal length (cm)\": 1.3, \"petal width (cm)\": 0.2, \"Outlier\": false}, {\"sepal length (cm)\": 4.6, \"sepal width (cm)\": 3.1, \"petal length (cm)\": 1.5, \"petal width (cm)\": 0.2, \"Outlier\": false}, {\"sepal length (cm)\": 5.0, \"sepal width (cm)\": 3.6, \"petal length (cm)\": 1.4, \"petal width (cm)\": 0.2, \"Outlier\": false}, {\"sepal length (cm)\": 5.4, \"sepal width (cm)\": 3.9, \"petal length (cm)\": 1.7, \"petal width (cm)\": 0.4, \"Outlier\": false}, {\"sepal length (cm)\": 4.6, \"sepal width (cm)\": 3.4, \"petal length (cm)\": 1.4, \"petal width (cm)\": 0.3, \"Outlier\": false}, {\"sepal length (cm)\": 5.0, \"sepal width (cm)\": 3.4, \"petal length (cm)\": 1.5, \"petal width (cm)\": 0.2, \"Outlier\": false}, {\"sepal length (cm)\": 4.4, \"sepal width (cm)\": 2.9, \"petal length (cm)\": 1.4, \"petal width (cm)\": 0.2, \"Outlier\": false}, {\"sepal length (cm)\": 4.9, \"sepal width (cm)\": 3.1, \"petal length (cm)\": 1.5, \"petal width (cm)\": 0.1, \"Outlier\": false}, {\"sepal length (cm)\": 5.4, \"sepal width (cm)\": 3.7, \"petal length (cm)\": 1.5, \"petal width (cm)\": 0.2, \"Outlier\": false}, {\"sepal length (cm)\": 4.8, \"sepal width (cm)\": 3.4, \"petal length (cm)\": 1.6, \"petal width (cm)\": 0.2, \"Outlier\": false}, {\"sepal length (cm)\": 4.8, \"sepal width (cm)\": 3.0, \"petal length (cm)\": 1.4, \"petal width (cm)\": 0.1, \"Outlier\": false}, {\"sepal length (cm)\": 4.3, \"sepal width (cm)\": 3.0, \"petal length (cm)\": 1.1, \"petal width (cm)\": 0.1, \"Outlier\": false}, {\"sepal length (cm)\": 5.8, \"sepal width (cm)\": 4.0, \"petal length (cm)\": 1.2, \"petal width (cm)\": 0.2, \"Outlier\": false}, {\"sepal length (cm)\": 5.7, \"sepal width (cm)\": 4.4, \"petal length (cm)\": 1.5, \"petal width (cm)\": 0.4, \"Outlier\": false}, {\"sepal length (cm)\": 5.4, \"sepal width (cm)\": 3.9, \"petal length (cm)\": 1.3, \"petal width (cm)\": 0.4, \"Outlier\": false}, {\"sepal length (cm)\": 5.1, \"sepal width (cm)\": 3.5, \"petal length (cm)\": 1.4, \"petal width (cm)\": 0.3, \"Outlier\": false}, {\"sepal length (cm)\": 5.7, \"sepal width (cm)\": 3.8, \"petal length (cm)\": 1.7, \"petal width (cm)\": 0.3, \"Outlier\": false}, {\"sepal length (cm)\": 5.1, \"sepal width (cm)\": 3.8, \"petal length (cm)\": 1.5, \"petal width (cm)\": 0.3, \"Outlier\": false}, {\"sepal length (cm)\": 5.4, \"sepal width (cm)\": 3.4, \"petal length (cm)\": 1.7, \"petal width (cm)\": 0.2, \"Outlier\": false}, {\"sepal length (cm)\": 5.1, \"sepal width (cm)\": 3.7, \"petal length (cm)\": 1.5, \"petal width (cm)\": 0.4, \"Outlier\": false}, {\"sepal length (cm)\": 4.6, \"sepal width (cm)\": 3.6, \"petal length (cm)\": 1.0, \"petal width (cm)\": 0.2, \"Outlier\": false}, {\"sepal length (cm)\": 5.1, \"sepal width (cm)\": 3.3, \"petal length (cm)\": 1.7, \"petal width (cm)\": 0.5, \"Outlier\": false}, {\"sepal length (cm)\": 4.8, \"sepal width (cm)\": 3.4, \"petal length (cm)\": 1.9, \"petal width (cm)\": 0.2, \"Outlier\": false}, {\"sepal length (cm)\": 5.0, \"sepal width (cm)\": 3.0, \"petal length (cm)\": 1.6, \"petal width (cm)\": 0.2, \"Outlier\": false}, {\"sepal length (cm)\": 5.0, \"sepal width (cm)\": 3.4, \"petal length (cm)\": 1.6, \"petal width (cm)\": 0.4, \"Outlier\": false}, {\"sepal length (cm)\": 5.2, \"sepal width (cm)\": 3.5, \"petal length (cm)\": 1.5, \"petal width (cm)\": 0.2, \"Outlier\": false}, {\"sepal length (cm)\": 5.2, \"sepal width (cm)\": 3.4, \"petal length (cm)\": 1.4, \"petal width (cm)\": 0.2, \"Outlier\": false}, {\"sepal length (cm)\": 4.7, \"sepal width (cm)\": 3.2, \"petal length (cm)\": 1.6, \"petal width (cm)\": 0.2, \"Outlier\": false}, {\"sepal length (cm)\": 4.8, \"sepal width (cm)\": 3.1, \"petal length (cm)\": 1.6, \"petal width (cm)\": 0.2, \"Outlier\": false}, {\"sepal length (cm)\": 5.4, \"sepal width (cm)\": 3.4, \"petal length (cm)\": 1.5, \"petal width (cm)\": 0.4, \"Outlier\": false}, {\"sepal length (cm)\": 5.2, \"sepal width (cm)\": 4.1, \"petal length (cm)\": 1.5, \"petal width (cm)\": 0.1, \"Outlier\": false}, {\"sepal length (cm)\": 5.5, \"sepal width (cm)\": 4.2, \"petal length (cm)\": 1.4, \"petal width (cm)\": 0.2, \"Outlier\": false}, {\"sepal length (cm)\": 4.9, \"sepal width (cm)\": 3.1, \"petal length (cm)\": 1.5, \"petal width (cm)\": 0.2, \"Outlier\": false}, {\"sepal length (cm)\": 5.0, \"sepal width (cm)\": 3.2, \"petal length (cm)\": 1.2, \"petal width (cm)\": 0.2, \"Outlier\": false}, {\"sepal length (cm)\": 5.5, \"sepal width (cm)\": 3.5, \"petal length (cm)\": 1.3, \"petal width (cm)\": 0.2, \"Outlier\": false}, {\"sepal length (cm)\": 4.9, \"sepal width (cm)\": 3.6, \"petal length (cm)\": 1.4, \"petal width (cm)\": 0.1, \"Outlier\": false}, {\"sepal length (cm)\": 4.4, \"sepal width (cm)\": 3.0, \"petal length (cm)\": 1.3, \"petal width (cm)\": 0.2, \"Outlier\": false}, {\"sepal length (cm)\": 5.1, \"sepal width (cm)\": 3.4, \"petal length (cm)\": 1.5, \"petal width (cm)\": 0.2, \"Outlier\": false}, {\"sepal length (cm)\": 5.0, \"sepal width (cm)\": 3.5, \"petal length (cm)\": 1.3, \"petal width (cm)\": 0.3, \"Outlier\": false}, {\"sepal length (cm)\": 4.5, \"sepal width (cm)\": 2.3, \"petal length (cm)\": 1.3, \"petal width (cm)\": 0.3, \"Outlier\": false}, {\"sepal length (cm)\": 4.4, \"sepal width (cm)\": 3.2, \"petal length (cm)\": 1.3, \"petal width (cm)\": 0.2, \"Outlier\": false}, {\"sepal length (cm)\": 5.0, \"sepal width (cm)\": 3.5, \"petal length (cm)\": 1.6, \"petal width (cm)\": 0.6, \"Outlier\": false}, {\"sepal length (cm)\": 5.1, \"sepal width (cm)\": 3.8, \"petal length (cm)\": 1.9, \"petal width (cm)\": 0.4, \"Outlier\": false}, {\"sepal length (cm)\": 4.8, \"sepal width (cm)\": 3.0, \"petal length (cm)\": 1.4, \"petal width (cm)\": 0.3, \"Outlier\": false}, {\"sepal length (cm)\": 5.1, \"sepal width (cm)\": 3.8, \"petal length (cm)\": 1.6, \"petal width (cm)\": 0.2, \"Outlier\": false}, {\"sepal length (cm)\": 4.6, \"sepal width (cm)\": 3.2, \"petal length (cm)\": 1.4, \"petal width (cm)\": 0.2, \"Outlier\": false}, {\"sepal length (cm)\": 5.3, \"sepal width (cm)\": 3.7, \"petal length (cm)\": 1.5, \"petal width (cm)\": 0.2, \"Outlier\": false}, {\"sepal length (cm)\": 5.0, \"sepal width (cm)\": 3.3, \"petal length (cm)\": 1.4, \"petal width (cm)\": 0.2, \"Outlier\": false}, {\"sepal length (cm)\": 7.0, \"sepal width (cm)\": 3.2, \"petal length (cm)\": 4.7, \"petal width (cm)\": 1.4, \"Outlier\": false}, {\"sepal length (cm)\": 6.4, \"sepal width (cm)\": 3.2, \"petal length (cm)\": 4.5, \"petal width (cm)\": 1.5, \"Outlier\": false}, {\"sepal length (cm)\": 6.9, \"sepal width (cm)\": 3.1, \"petal length (cm)\": 4.9, \"petal width (cm)\": 1.5, \"Outlier\": false}, {\"sepal length (cm)\": 5.5, \"sepal width (cm)\": 2.3, \"petal length (cm)\": 4.0, \"petal width (cm)\": 1.3, \"Outlier\": false}, {\"sepal length (cm)\": 6.5, \"sepal width (cm)\": 2.8, \"petal length (cm)\": 4.6, \"petal width (cm)\": 1.5, \"Outlier\": false}, {\"sepal length (cm)\": 5.7, \"sepal width (cm)\": 2.8, \"petal length (cm)\": 4.5, \"petal width (cm)\": 1.3, \"Outlier\": false}, {\"sepal length (cm)\": 6.3, \"sepal width (cm)\": 3.3, \"petal length (cm)\": 4.7, \"petal width (cm)\": 1.6, \"Outlier\": false}, {\"sepal length (cm)\": 4.9, \"sepal width (cm)\": 2.4, \"petal length (cm)\": 3.3, \"petal width (cm)\": 1.0, \"Outlier\": false}, {\"sepal length (cm)\": 6.6, \"sepal width (cm)\": 2.9, \"petal length (cm)\": 4.6, \"petal width (cm)\": 1.3, \"Outlier\": false}, {\"sepal length (cm)\": 5.2, \"sepal width (cm)\": 2.7, \"petal length (cm)\": 3.9, \"petal width (cm)\": 1.4, \"Outlier\": false}, {\"sepal length (cm)\": 5.0, \"sepal width (cm)\": 2.0, \"petal length (cm)\": 3.5, \"petal width (cm)\": 1.0, \"Outlier\": false}, {\"sepal length (cm)\": 5.9, \"sepal width (cm)\": 3.0, \"petal length (cm)\": 4.2, \"petal width (cm)\": 1.5, \"Outlier\": false}, {\"sepal length (cm)\": 6.0, \"sepal width (cm)\": 2.2, \"petal length (cm)\": 4.0, \"petal width (cm)\": 1.0, \"Outlier\": false}, {\"sepal length (cm)\": 6.1, \"sepal width (cm)\": 2.9, \"petal length (cm)\": 4.7, \"petal width (cm)\": 1.4, \"Outlier\": false}, {\"sepal length (cm)\": 5.6, \"sepal width (cm)\": 2.9, \"petal length (cm)\": 3.6, \"petal width (cm)\": 1.3, \"Outlier\": false}, {\"sepal length (cm)\": 6.7, \"sepal width (cm)\": 3.1, \"petal length (cm)\": 4.4, \"petal width (cm)\": 1.4, \"Outlier\": false}, {\"sepal length (cm)\": 5.6, \"sepal width (cm)\": 3.0, \"petal length (cm)\": 4.5, \"petal width (cm)\": 1.5, \"Outlier\": false}, {\"sepal length (cm)\": 5.8, \"sepal width (cm)\": 2.7, \"petal length (cm)\": 4.1, \"petal width (cm)\": 1.0, \"Outlier\": false}, {\"sepal length (cm)\": 6.2, \"sepal width (cm)\": 2.2, \"petal length (cm)\": 4.5, \"petal width (cm)\": 1.5, \"Outlier\": false}, {\"sepal length (cm)\": 5.6, \"sepal width (cm)\": 2.5, \"petal length (cm)\": 3.9, \"petal width (cm)\": 1.1, \"Outlier\": false}, {\"sepal length (cm)\": 5.9, \"sepal width (cm)\": 3.2, \"petal length (cm)\": 4.8, \"petal width (cm)\": 1.8, \"Outlier\": false}, {\"sepal length (cm)\": 6.1, \"sepal width (cm)\": 2.8, \"petal length (cm)\": 4.0, \"petal width (cm)\": 1.3, \"Outlier\": false}, {\"sepal length (cm)\": 6.3, \"sepal width (cm)\": 2.5, \"petal length (cm)\": 4.9, \"petal width (cm)\": 1.5, \"Outlier\": false}, {\"sepal length (cm)\": 6.1, \"sepal width (cm)\": 2.8, \"petal length (cm)\": 4.7, \"petal width (cm)\": 1.2, \"Outlier\": false}, {\"sepal length (cm)\": 6.4, \"sepal width (cm)\": 2.9, \"petal length (cm)\": 4.3, \"petal width (cm)\": 1.3, \"Outlier\": false}, {\"sepal length (cm)\": 6.6, \"sepal width (cm)\": 3.0, \"petal length (cm)\": 4.4, \"petal width (cm)\": 1.4, \"Outlier\": false}, {\"sepal length (cm)\": 6.8, \"sepal width (cm)\": 2.8, \"petal length (cm)\": 4.8, \"petal width (cm)\": 1.4, \"Outlier\": false}, {\"sepal length (cm)\": 6.7, \"sepal width (cm)\": 3.0, \"petal length (cm)\": 5.0, \"petal width (cm)\": 1.7, \"Outlier\": false}, {\"sepal length (cm)\": 6.0, \"sepal width (cm)\": 2.9, \"petal length (cm)\": 4.5, \"petal width (cm)\": 1.5, \"Outlier\": false}, {\"sepal length (cm)\": 5.7, \"sepal width (cm)\": 2.6, \"petal length (cm)\": 3.5, \"petal width (cm)\": 1.0, \"Outlier\": false}, {\"sepal length (cm)\": 5.5, \"sepal width (cm)\": 2.4, \"petal length (cm)\": 3.8, \"petal width (cm)\": 1.1, \"Outlier\": false}, {\"sepal length (cm)\": 5.5, \"sepal width (cm)\": 2.4, \"petal length (cm)\": 3.7, \"petal width (cm)\": 1.0, \"Outlier\": false}, {\"sepal length (cm)\": 5.8, \"sepal width (cm)\": 2.7, \"petal length (cm)\": 3.9, \"petal width (cm)\": 1.2, \"Outlier\": false}, {\"sepal length (cm)\": 6.0, \"sepal width (cm)\": 2.7, \"petal length (cm)\": 5.1, \"petal width (cm)\": 1.6, \"Outlier\": false}, {\"sepal length (cm)\": 5.4, \"sepal width (cm)\": 3.0, \"petal length (cm)\": 4.5, \"petal width (cm)\": 1.5, \"Outlier\": false}, {\"sepal length (cm)\": 6.0, \"sepal width (cm)\": 3.4, \"petal length (cm)\": 4.5, \"petal width (cm)\": 1.6, \"Outlier\": false}, {\"sepal length (cm)\": 6.7, \"sepal width (cm)\": 3.1, \"petal length (cm)\": 4.7, \"petal width (cm)\": 1.5, \"Outlier\": false}, {\"sepal length (cm)\": 6.3, \"sepal width (cm)\": 2.3, \"petal length (cm)\": 4.4, \"petal width (cm)\": 1.3, \"Outlier\": false}, {\"sepal length (cm)\": 5.6, \"sepal width (cm)\": 3.0, \"petal length (cm)\": 4.1, \"petal width (cm)\": 1.3, \"Outlier\": false}, {\"sepal length (cm)\": 5.5, \"sepal width (cm)\": 2.5, \"petal length (cm)\": 4.0, \"petal width (cm)\": 1.3, \"Outlier\": false}, {\"sepal length (cm)\": 5.5, \"sepal width (cm)\": 2.6, \"petal length (cm)\": 4.4, \"petal width (cm)\": 1.2, \"Outlier\": false}, {\"sepal length (cm)\": 6.1, \"sepal width (cm)\": 3.0, \"petal length (cm)\": 4.6, \"petal width (cm)\": 1.4, \"Outlier\": false}, {\"sepal length (cm)\": 5.8, \"sepal width (cm)\": 2.6, \"petal length (cm)\": 4.0, \"petal width (cm)\": 1.2, \"Outlier\": false}, {\"sepal length (cm)\": 5.0, \"sepal width (cm)\": 2.3, \"petal length (cm)\": 3.3, \"petal width (cm)\": 1.0, \"Outlier\": false}, {\"sepal length (cm)\": 5.6, \"sepal width (cm)\": 2.7, \"petal length (cm)\": 4.2, \"petal width (cm)\": 1.3, \"Outlier\": false}, {\"sepal length (cm)\": 5.7, \"sepal width (cm)\": 3.0, \"petal length (cm)\": 4.2, \"petal width (cm)\": 1.2, \"Outlier\": false}, {\"sepal length (cm)\": 5.7, \"sepal width (cm)\": 2.9, \"petal length (cm)\": 4.2, \"petal width (cm)\": 1.3, \"Outlier\": false}, {\"sepal length (cm)\": 6.2, \"sepal width (cm)\": 2.9, \"petal length (cm)\": 4.3, \"petal width (cm)\": 1.3, \"Outlier\": false}, {\"sepal length (cm)\": 5.1, \"sepal width (cm)\": 2.5, \"petal length (cm)\": 3.0, \"petal width (cm)\": 1.1, \"Outlier\": false}, {\"sepal length (cm)\": 5.7, \"sepal width (cm)\": 2.8, \"petal length (cm)\": 4.1, \"petal width (cm)\": 1.3, \"Outlier\": false}, {\"sepal length (cm)\": 6.3, \"sepal width (cm)\": 3.3, \"petal length (cm)\": 6.0, \"petal width (cm)\": 2.5, \"Outlier\": false}, {\"sepal length (cm)\": 5.8, \"sepal width (cm)\": 2.7, \"petal length (cm)\": 5.1, \"petal width (cm)\": 1.9, \"Outlier\": false}, {\"sepal length (cm)\": 7.1, \"sepal width (cm)\": 3.0, \"petal length (cm)\": 5.9, \"petal width (cm)\": 2.1, \"Outlier\": false}, {\"sepal length (cm)\": 6.3, \"sepal width (cm)\": 2.9, \"petal length (cm)\": 5.6, \"petal width (cm)\": 1.8, \"Outlier\": false}, {\"sepal length (cm)\": 6.5, \"sepal width (cm)\": 3.0, \"petal length (cm)\": 5.8, \"petal width (cm)\": 2.2, \"Outlier\": false}, {\"sepal length (cm)\": 7.6, \"sepal width (cm)\": 3.0, \"petal length (cm)\": 6.6, \"petal width (cm)\": 2.1, \"Outlier\": false}, {\"sepal length (cm)\": 4.9, \"sepal width (cm)\": 2.5, \"petal length (cm)\": 4.5, \"petal width (cm)\": 1.7, \"Outlier\": false}, {\"sepal length (cm)\": 7.3, \"sepal width (cm)\": 2.9, \"petal length (cm)\": 6.3, \"petal width (cm)\": 1.8, \"Outlier\": false}, {\"sepal length (cm)\": 6.7, \"sepal width (cm)\": 2.5, \"petal length (cm)\": 5.8, \"petal width (cm)\": 1.8, \"Outlier\": false}, {\"sepal length (cm)\": 7.2, \"sepal width (cm)\": 3.6, \"petal length (cm)\": 6.1, \"petal width (cm)\": 2.5, \"Outlier\": false}, {\"sepal length (cm)\": 6.5, \"sepal width (cm)\": 3.2, \"petal length (cm)\": 5.1, \"petal width (cm)\": 2.0, \"Outlier\": false}, {\"sepal length (cm)\": 6.4, \"sepal width (cm)\": 2.7, \"petal length (cm)\": 5.3, \"petal width (cm)\": 1.9, \"Outlier\": false}, {\"sepal length (cm)\": 6.8, \"sepal width (cm)\": 3.0, \"petal length (cm)\": 5.5, \"petal width (cm)\": 2.1, \"Outlier\": false}, {\"sepal length (cm)\": 5.7, \"sepal width (cm)\": 2.5, \"petal length (cm)\": 5.0, \"petal width (cm)\": 2.0, \"Outlier\": false}, {\"sepal length (cm)\": 5.8, \"sepal width (cm)\": 2.8, \"petal length (cm)\": 5.1, \"petal width (cm)\": 2.4, \"Outlier\": false}, {\"sepal length (cm)\": 6.4, \"sepal width (cm)\": 3.2, \"petal length (cm)\": 5.3, \"petal width (cm)\": 2.3, \"Outlier\": false}, {\"sepal length (cm)\": 6.5, \"sepal width (cm)\": 3.0, \"petal length (cm)\": 5.5, \"petal width (cm)\": 1.8, \"Outlier\": false}, {\"sepal length (cm)\": 7.7, \"sepal width (cm)\": 3.8, \"petal length (cm)\": 6.7, \"petal width (cm)\": 2.2, \"Outlier\": true}, {\"sepal length (cm)\": 7.7, \"sepal width (cm)\": 2.6, \"petal length (cm)\": 6.9, \"petal width (cm)\": 2.3, \"Outlier\": true}, {\"sepal length (cm)\": 6.0, \"sepal width (cm)\": 2.2, \"petal length (cm)\": 5.0, \"petal width (cm)\": 1.5, \"Outlier\": false}, {\"sepal length (cm)\": 6.9, \"sepal width (cm)\": 3.2, \"petal length (cm)\": 5.7, \"petal width (cm)\": 2.3, \"Outlier\": false}, {\"sepal length (cm)\": 5.6, \"sepal width (cm)\": 2.8, \"petal length (cm)\": 4.9, \"petal width (cm)\": 2.0, \"Outlier\": false}, {\"sepal length (cm)\": 7.7, \"sepal width (cm)\": 2.8, \"petal length (cm)\": 6.7, \"petal width (cm)\": 2.0, \"Outlier\": true}, {\"sepal length (cm)\": 6.3, \"sepal width (cm)\": 2.7, \"petal length (cm)\": 4.9, \"petal width (cm)\": 1.8, \"Outlier\": false}, {\"sepal length (cm)\": 6.7, \"sepal width (cm)\": 3.3, \"petal length (cm)\": 5.7, \"petal width (cm)\": 2.1, \"Outlier\": false}, {\"sepal length (cm)\": 7.2, \"sepal width (cm)\": 3.2, \"petal length (cm)\": 6.0, \"petal width (cm)\": 1.8, \"Outlier\": false}, {\"sepal length (cm)\": 6.2, \"sepal width (cm)\": 2.8, \"petal length (cm)\": 4.8, \"petal width (cm)\": 1.8, \"Outlier\": false}, {\"sepal length (cm)\": 6.1, \"sepal width (cm)\": 3.0, \"petal length (cm)\": 4.9, \"petal width (cm)\": 1.8, \"Outlier\": false}, {\"sepal length (cm)\": 6.4, \"sepal width (cm)\": 2.8, \"petal length (cm)\": 5.6, \"petal width (cm)\": 2.1, \"Outlier\": false}, {\"sepal length (cm)\": 7.2, \"sepal width (cm)\": 3.0, \"petal length (cm)\": 5.8, \"petal width (cm)\": 1.6, \"Outlier\": false}, {\"sepal length (cm)\": 7.4, \"sepal width (cm)\": 2.8, \"petal length (cm)\": 6.1, \"petal width (cm)\": 1.9, \"Outlier\": false}, {\"sepal length (cm)\": 7.9, \"sepal width (cm)\": 3.8, \"petal length (cm)\": 6.4, \"petal width (cm)\": 2.0, \"Outlier\": true}, {\"sepal length (cm)\": 6.4, \"sepal width (cm)\": 2.8, \"petal length (cm)\": 5.6, \"petal width (cm)\": 2.2, \"Outlier\": false}, {\"sepal length (cm)\": 6.3, \"sepal width (cm)\": 2.8, \"petal length (cm)\": 5.1, \"petal width (cm)\": 1.5, \"Outlier\": false}, {\"sepal length (cm)\": 6.1, \"sepal width (cm)\": 2.6, \"petal length (cm)\": 5.6, \"petal width (cm)\": 1.4, \"Outlier\": false}, {\"sepal length (cm)\": 7.7, \"sepal width (cm)\": 3.0, \"petal length (cm)\": 6.1, \"petal width (cm)\": 2.3, \"Outlier\": false}, {\"sepal length (cm)\": 6.3, \"sepal width (cm)\": 3.4, \"petal length (cm)\": 5.6, \"petal width (cm)\": 2.4, \"Outlier\": false}, {\"sepal length (cm)\": 6.4, \"sepal width (cm)\": 3.1, \"petal length (cm)\": 5.5, \"petal width (cm)\": 1.8, \"Outlier\": false}, {\"sepal length (cm)\": 6.0, \"sepal width (cm)\": 3.0, \"petal length (cm)\": 4.8, \"petal width (cm)\": 1.8, \"Outlier\": false}, {\"sepal length (cm)\": 6.9, \"sepal width (cm)\": 3.1, \"petal length (cm)\": 5.4, \"petal width (cm)\": 2.1, \"Outlier\": false}, {\"sepal length (cm)\": 6.7, \"sepal width (cm)\": 3.1, \"petal length (cm)\": 5.6, \"petal width (cm)\": 2.4, \"Outlier\": false}, {\"sepal length (cm)\": 6.9, \"sepal width (cm)\": 3.1, \"petal length (cm)\": 5.1, \"petal width (cm)\": 2.3, \"Outlier\": false}, {\"sepal length (cm)\": 5.8, \"sepal width (cm)\": 2.7, \"petal length (cm)\": 5.1, \"petal width (cm)\": 1.9, \"Outlier\": false}, {\"sepal length (cm)\": 6.8, \"sepal width (cm)\": 3.2, \"petal length (cm)\": 5.9, \"petal width (cm)\": 2.3, \"Outlier\": false}, {\"sepal length (cm)\": 6.7, \"sepal width (cm)\": 3.3, \"petal length (cm)\": 5.7, \"petal width (cm)\": 2.5, \"Outlier\": false}, {\"sepal length (cm)\": 6.7, \"sepal width (cm)\": 3.0, \"petal length (cm)\": 5.2, \"petal width (cm)\": 2.3, \"Outlier\": false}, {\"sepal length (cm)\": 6.3, \"sepal width (cm)\": 2.5, \"petal length (cm)\": 5.0, \"petal width (cm)\": 1.9, \"Outlier\": false}, {\"sepal length (cm)\": 6.5, \"sepal width (cm)\": 3.0, \"petal length (cm)\": 5.2, \"petal width (cm)\": 2.0, \"Outlier\": false}, {\"sepal length (cm)\": 6.2, \"sepal width (cm)\": 3.4, \"petal length (cm)\": 5.4, \"petal width (cm)\": 2.3, \"Outlier\": false}, {\"sepal length (cm)\": 5.9, \"sepal width (cm)\": 3.0, \"petal length (cm)\": 5.1, \"petal width (cm)\": 1.8, \"Outlier\": false}]}}, {\"mode\": \"vega-lite\"});\n",
       "</script>"
      ],
      "text/plain": [
       "alt.Chart(...)"
      ]
     },
     "execution_count": 11,
     "metadata": {},
     "output_type": "execute_result"
    }
   ],
   "source": [
    "if config.dataset == Dataset.LINNERUD:\n",
    "    data = load_linnerud(as_frame=True).data\n",
    "elif config.dataset == Dataset.IRIS:\n",
    "    data = load_iris(as_frame=True).data\n",
    "else:\n",
    "    raise ValueError(f\"Unsupported dataset {config.dataset}\")\n",
    "\n",
    "data[\"Outlier\"] = (\n",
    "    LocalOutlierFactor(config.outlier_n)\n",
    "    .fit_predict(data) == -1\n",
    ")\n",
    "\n",
    "if isinstance(config.plot, ScatterPlotSchema):\n",
    "    if config.plot.z is None:\n",
    "        chart = (\n",
    "            altair.Chart(data)\n",
    "            .mark_point()\n",
    "            .encode(x=config.plot.x, y=config.plot.y, color=\"Outlier\")\n",
    "        )\n",
    "    else:\n",
    "        chart = plt.axes(projection=\"3d\")\n",
    "        chart.scatter3D(\n",
    "            data[config.plot.x],\n",
    "            data[config.plot.y],\n",
    "            data[config.plot.z],\n",
    "            c=data[\"Outlier\"],\n",
    "        )\n",
    "else:\n",
    "    chart = (\n",
    "        altair.Chart(data)\n",
    "        .mark_rect()\n",
    "        .encode(\n",
    "            x=altair.X(config.plot.x, bin=True),\n",
    "            y=altair.Y(config.plot.y, bin=True),\n",
    "            color=\"Outlier\",\n",
    "            opacity=\"count()\",\n",
    "        )\n",
    "    )\n",
    "\n",
    "chart"
   ]
  }
 ],
 "metadata": {
  "kernelspec": {
   "display_name": "Python 3",
   "language": "python",
   "name": "python3"
  },
  "language_info": {
   "codemirror_mode": {
    "name": "ipython",
    "version": 3
   },
   "file_extension": ".py",
   "mimetype": "text/x-python",
   "name": "python",
   "nbconvert_exporter": "python",
   "pygments_lexer": "ipython3",
   "version": "3.7.3"
  },
  "toc-autonumbering": false,
  "toc-showmarkdowntxt": false
 },
 "nbformat": 4,
 "nbformat_minor": 5
}
