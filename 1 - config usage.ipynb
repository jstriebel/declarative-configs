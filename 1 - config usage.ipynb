{
 "cells": [
  {
   "cell_type": "code",
   "execution_count": 1,
   "id": "f413d164-9481-45c8-aeac-c3b78227f3b1",
   "metadata": {
    "slideshow": {
     "slide_type": "skip"
    },
    "tags": []
   },
   "outputs": [],
   "source": [
    "import altair\n",
    "import attr\n",
    "import cattr\n",
    "import yaml\n",
    "import enum\n",
    "from IPython.display import display\n",
    "from sklearn.neighbors import LocalOutlierFactor\n",
    "from sklearn.datasets import load_iris, load_linnerud"
   ]
  },
  {
   "cell_type": "markdown",
   "id": "ba8d91a0-ba99-4f1c-b04e-ab463e97c934",
   "metadata": {
    "slideshow": {
     "slide_type": "slide"
    },
    "tags": []
   },
   "source": [
    "# Extracting the Config - Usage"
   ]
  },
  {
   "cell_type": "code",
   "execution_count": 2,
   "id": "4c046299-965d-4d48-b70a-0f7037b9ec0f",
   "metadata": {
    "slideshow": {
     "slide_type": "fragment"
    },
    "tags": []
   },
   "outputs": [],
   "source": [
    "@enum.unique\n",
    "class Dataset(enum.Enum):\n",
    "    LINNERUD = \"linnerud\"\n",
    "    IRIS = \"iris\"\n",
    "\n",
    "\n",
    "@attr.s(auto_attribs=True)\n",
    "class ConfigSchema:\n",
    "    dataset: Dataset\n",
    "    outlier_n: int\n",
    "    plot_x: str\n",
    "    plot_y: str"
   ]
  },
  {
   "cell_type": "code",
   "execution_count": 3,
   "id": "f4fd02df-bc93-40bc-8861-98e0adca2715",
   "metadata": {
    "tags": []
   },
   "outputs": [
    {
     "data": {
      "text/html": [
       "\n",
       "<div id=\"altair-viz-e1340dcef0ff4d12a217fc25bd39899a\"></div>\n",
       "<script type=\"text/javascript\">\n",
       "  (function(spec, embedOpt){\n",
       "    let outputDiv = document.currentScript.previousElementSibling;\n",
       "    if (outputDiv.id !== \"altair-viz-e1340dcef0ff4d12a217fc25bd39899a\") {\n",
       "      outputDiv = document.getElementById(\"altair-viz-e1340dcef0ff4d12a217fc25bd39899a\");\n",
       "    }\n",
       "    const paths = {\n",
       "      \"vega\": \"https://cdn.jsdelivr.net/npm//vega@5?noext\",\n",
       "      \"vega-lib\": \"https://cdn.jsdelivr.net/npm//vega-lib?noext\",\n",
       "      \"vega-lite\": \"https://cdn.jsdelivr.net/npm//vega-lite@4.8.1?noext\",\n",
       "      \"vega-embed\": \"https://cdn.jsdelivr.net/npm//vega-embed@6?noext\",\n",
       "    };\n",
       "\n",
       "    function loadScript(lib) {\n",
       "      return new Promise(function(resolve, reject) {\n",
       "        var s = document.createElement('script');\n",
       "        s.src = paths[lib];\n",
       "        s.async = true;\n",
       "        s.onload = () => resolve(paths[lib]);\n",
       "        s.onerror = () => reject(`Error loading script: ${paths[lib]}`);\n",
       "        document.getElementsByTagName(\"head\")[0].appendChild(s);\n",
       "      });\n",
       "    }\n",
       "\n",
       "    function showError(err) {\n",
       "      outputDiv.innerHTML = `<div class=\"error\" style=\"color:red;\">${err}</div>`;\n",
       "      throw err;\n",
       "    }\n",
       "\n",
       "    function displayChart(vegaEmbed) {\n",
       "      vegaEmbed(outputDiv, spec, embedOpt)\n",
       "        .catch(err => showError(`Javascript Error: ${err.message}<br>This usually means there's a typo in your chart specification. See the javascript console for the full traceback.`));\n",
       "    }\n",
       "\n",
       "    if(typeof define === \"function\" && define.amd) {\n",
       "      requirejs.config({paths});\n",
       "      require([\"vega-embed\"], displayChart, err => showError(`Error loading script: ${err.message}`));\n",
       "    } else if (typeof vegaEmbed === \"function\") {\n",
       "      displayChart(vegaEmbed);\n",
       "    } else {\n",
       "      loadScript(\"vega\")\n",
       "        .then(() => loadScript(\"vega-lite\"))\n",
       "        .then(() => loadScript(\"vega-embed\"))\n",
       "        .catch(showError)\n",
       "        .then(() => displayChart(vegaEmbed));\n",
       "    }\n",
       "  })({\"config\": {\"view\": {\"continuousWidth\": 400, \"continuousHeight\": 300}}, \"data\": {\"name\": \"data-453bdd878de1dc1d4f8ba02c7ea0393a\"}, \"mark\": \"point\", \"encoding\": {\"color\": {\"type\": \"nominal\", \"field\": \"Outlier\"}, \"x\": {\"type\": \"quantitative\", \"field\": \"Chins\"}, \"y\": {\"type\": \"quantitative\", \"field\": \"Jumps\"}}, \"$schema\": \"https://vega.github.io/schema/vega-lite/v4.8.1.json\", \"datasets\": {\"data-453bdd878de1dc1d4f8ba02c7ea0393a\": [{\"Chins\": 5.0, \"Situps\": 162.0, \"Jumps\": 60.0, \"Outlier\": false}, {\"Chins\": 2.0, \"Situps\": 110.0, \"Jumps\": 60.0, \"Outlier\": false}, {\"Chins\": 12.0, \"Situps\": 101.0, \"Jumps\": 101.0, \"Outlier\": false}, {\"Chins\": 12.0, \"Situps\": 105.0, \"Jumps\": 37.0, \"Outlier\": false}, {\"Chins\": 13.0, \"Situps\": 155.0, \"Jumps\": 58.0, \"Outlier\": false}, {\"Chins\": 4.0, \"Situps\": 101.0, \"Jumps\": 42.0, \"Outlier\": false}, {\"Chins\": 8.0, \"Situps\": 101.0, \"Jumps\": 38.0, \"Outlier\": false}, {\"Chins\": 6.0, \"Situps\": 125.0, \"Jumps\": 40.0, \"Outlier\": false}, {\"Chins\": 15.0, \"Situps\": 200.0, \"Jumps\": 40.0, \"Outlier\": false}, {\"Chins\": 17.0, \"Situps\": 251.0, \"Jumps\": 250.0, \"Outlier\": true}, {\"Chins\": 17.0, \"Situps\": 120.0, \"Jumps\": 38.0, \"Outlier\": false}, {\"Chins\": 13.0, \"Situps\": 210.0, \"Jumps\": 115.0, \"Outlier\": false}, {\"Chins\": 14.0, \"Situps\": 215.0, \"Jumps\": 105.0, \"Outlier\": false}, {\"Chins\": 1.0, \"Situps\": 50.0, \"Jumps\": 50.0, \"Outlier\": false}, {\"Chins\": 6.0, \"Situps\": 70.0, \"Jumps\": 31.0, \"Outlier\": false}, {\"Chins\": 12.0, \"Situps\": 210.0, \"Jumps\": 120.0, \"Outlier\": false}, {\"Chins\": 4.0, \"Situps\": 60.0, \"Jumps\": 25.0, \"Outlier\": false}, {\"Chins\": 11.0, \"Situps\": 230.0, \"Jumps\": 80.0, \"Outlier\": false}, {\"Chins\": 15.0, \"Situps\": 225.0, \"Jumps\": 73.0, \"Outlier\": false}, {\"Chins\": 2.0, \"Situps\": 110.0, \"Jumps\": 43.0, \"Outlier\": false}]}}, {\"mode\": \"vega-lite\"});\n",
       "</script>"
      ],
      "text/plain": [
       "alt.Chart(...)"
      ]
     },
     "execution_count": 3,
     "metadata": {},
     "output_type": "execute_result"
    }
   ],
   "source": [
    "with open(\"config_b.yaml\") as f:\n",
    "    config = cattr.structure(yaml.safe_load(f), ConfigSchema)\n",
    "\n",
    "if config.dataset == Dataset.LINNERUD:\n",
    "    data = load_linnerud(as_frame=True).data\n",
    "elif config.dataset == Dataset.IRIS:\n",
    "    data = load_iris(as_frame=True).data\n",
    "else:\n",
    "    raise ValueError(f\"Unsupported dataset {config.dataset}\")\n",
    "\n",
    "data[\"Outlier\"] = (\n",
    "    LocalOutlierFactor(config.outlier_n)\n",
    "    .fit_predict(data) == -1\n",
    ")\n",
    "\n",
    "altair.Chart(data).mark_point().encode(\n",
    "    x=config.plot_x,\n",
    "    y=config.plot_y,\n",
    "    color=\"Outlier\"\n",
    ")"
   ]
  }
 ],
 "metadata": {
  "kernelspec": {
   "display_name": "Python 3",
   "language": "python",
   "name": "python3"
  },
  "language_info": {
   "codemirror_mode": {
    "name": "ipython",
    "version": 3
   },
   "file_extension": ".py",
   "mimetype": "text/x-python",
   "name": "python",
   "nbconvert_exporter": "python",
   "pygments_lexer": "ipython3",
   "version": "3.7.3"
  },
  "toc-autonumbering": false,
  "toc-showmarkdowntxt": false
 },
 "nbformat": 4,
 "nbformat_minor": 5
}
